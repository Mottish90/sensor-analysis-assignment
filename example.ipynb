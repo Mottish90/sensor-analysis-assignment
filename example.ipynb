{
 "cells": [
  {
   "cell_type": "code",
   "execution_count": 1,
   "id": "a6a8b399-50ff-4d60-bf95-c80f0bc887ea",
   "metadata": {},
   "outputs": [],
   "source": [
    "from extract_features import process_dataset, load_and_process_sample\n",
    "from visualization import signal_viewer\n",
    "from imu_pipeline import IMUPipeline\n",
    "from pathlib import Path\n",
    "import pandas as pd\n",
    "import joblib\n",
    "import os"
   ]
  },
  {
   "cell_type": "code",
   "execution_count": 2,
   "id": "f7165b8b-235f-4a05-85ad-038a4f3784ae",
   "metadata": {},
   "outputs": [
    {
     "data": {
      "application/vnd.jupyter.widget-view+json": {
       "model_id": "b8ed0e50236243ebb7eb1857766e8beb",
       "version_major": 2,
       "version_minor": 0
      },
      "text/plain": [
       "VBox(children=(Dropdown(description='Sample ID:', layout=Layout(width='50%'), options=('00104b76-d512-43d6-b2e…"
      ]
     },
     "metadata": {},
     "output_type": "display_data"
    }
   ],
   "source": [
    "signal_viewer(\n",
    "    data_dir=Path('data/raw/train'),\n",
    "    labels_csv=Path('data/train.csv')\n",
    ")"
   ]
  },
  {
   "cell_type": "code",
   "execution_count": 3,
   "id": "bfc90d45-6766-4987-981b-a4c2ba07a553",
   "metadata": {},
   "outputs": [
    {
     "name": "stdout",
     "output_type": "stream",
     "text": [
      "[INFO] No label CSV found for 'inference' – proceeding without labels.\n",
      "\n",
      "Processing 'inference' dataset...\n"
     ]
    },
    {
     "name": "stderr",
     "output_type": "stream",
     "text": [
      "100%|█████████████████████████████████████████████████████████████████████████████████████████████████████████████████████████| 473/473 [00:01<00:00, 286.27it/s]"
     ]
    },
    {
     "name": "stdout",
     "output_type": "stream",
     "text": [
      "Processed 473 samples to data/inference.csv\n"
     ]
    },
    {
     "name": "stderr",
     "output_type": "stream",
     "text": [
      "\n"
     ]
    },
    {
     "data": {
      "text/html": [
       "<div>\n",
       "<style scoped>\n",
       "    .dataframe tbody tr th:only-of-type {\n",
       "        vertical-align: middle;\n",
       "    }\n",
       "\n",
       "    .dataframe tbody tr th {\n",
       "        vertical-align: top;\n",
       "    }\n",
       "\n",
       "    .dataframe thead th {\n",
       "        text-align: right;\n",
       "    }\n",
       "</style>\n",
       "<table border=\"1\" class=\"dataframe\">\n",
       "  <thead>\n",
       "    <tr style=\"text-align: right;\">\n",
       "      <th></th>\n",
       "      <th>x_mean</th>\n",
       "      <th>x_std</th>\n",
       "      <th>x_max</th>\n",
       "      <th>x_min</th>\n",
       "      <th>x_range</th>\n",
       "      <th>x_skew</th>\n",
       "      <th>x_kurtosis</th>\n",
       "      <th>x_n_peaks</th>\n",
       "      <th>x_energy</th>\n",
       "      <th>y_mean</th>\n",
       "      <th>...</th>\n",
       "      <th>temperature</th>\n",
       "      <th>humidity</th>\n",
       "      <th>altitude</th>\n",
       "      <th>session_id</th>\n",
       "      <th>firmware_version</th>\n",
       "      <th>calibration_status</th>\n",
       "      <th>battery_level</th>\n",
       "      <th>gps_accuracy</th>\n",
       "      <th>network_type</th>\n",
       "      <th>device_model</th>\n",
       "    </tr>\n",
       "  </thead>\n",
       "  <tbody>\n",
       "    <tr>\n",
       "      <th>0</th>\n",
       "      <td>2.578586</td>\n",
       "      <td>2.362892</td>\n",
       "      <td>8.999561</td>\n",
       "      <td>-5.200753</td>\n",
       "      <td>14.200314</td>\n",
       "      <td>0.193760</td>\n",
       "      <td>1.400440</td>\n",
       "      <td>31</td>\n",
       "      <td>1223.236383</td>\n",
       "      <td>2.995496</td>\n",
       "      <td>...</td>\n",
       "      <td>12</td>\n",
       "      <td>49</td>\n",
       "      <td>996</td>\n",
       "      <td>S603575</td>\n",
       "      <td>v1.3.0</td>\n",
       "      <td>ok</td>\n",
       "      <td>79</td>\n",
       "      <td>5.570705</td>\n",
       "      <td>4g</td>\n",
       "      <td>model_c</td>\n",
       "    </tr>\n",
       "    <tr>\n",
       "      <th>1</th>\n",
       "      <td>-0.114423</td>\n",
       "      <td>2.185548</td>\n",
       "      <td>10.289834</td>\n",
       "      <td>-5.283784</td>\n",
       "      <td>15.573618</td>\n",
       "      <td>2.164783</td>\n",
       "      <td>7.702143</td>\n",
       "      <td>5</td>\n",
       "      <td>478.971240</td>\n",
       "      <td>0.343485</td>\n",
       "      <td>...</td>\n",
       "      <td>22</td>\n",
       "      <td>75</td>\n",
       "      <td>607</td>\n",
       "      <td>S949312</td>\n",
       "      <td>v1.2.4</td>\n",
       "      <td>ok</td>\n",
       "      <td>81</td>\n",
       "      <td>3.181146</td>\n",
       "      <td>4g</td>\n",
       "      <td>model_c</td>\n",
       "    </tr>\n",
       "    <tr>\n",
       "      <th>2</th>\n",
       "      <td>0.061702</td>\n",
       "      <td>0.147340</td>\n",
       "      <td>0.291371</td>\n",
       "      <td>-0.208436</td>\n",
       "      <td>0.499806</td>\n",
       "      <td>-0.407912</td>\n",
       "      <td>-1.211002</td>\n",
       "      <td>15</td>\n",
       "      <td>2.551629</td>\n",
       "      <td>0.015451</td>\n",
       "      <td>...</td>\n",
       "      <td>30</td>\n",
       "      <td>52</td>\n",
       "      <td>482</td>\n",
       "      <td>S223545</td>\n",
       "      <td>v1.2.3</td>\n",
       "      <td>recent</td>\n",
       "      <td>95</td>\n",
       "      <td>2.987759</td>\n",
       "      <td>4g</td>\n",
       "      <td>model_b</td>\n",
       "    </tr>\n",
       "    <tr>\n",
       "      <th>3</th>\n",
       "      <td>1.354891</td>\n",
       "      <td>2.486652</td>\n",
       "      <td>11.114359</td>\n",
       "      <td>-6.365416</td>\n",
       "      <td>17.479775</td>\n",
       "      <td>0.764660</td>\n",
       "      <td>3.152818</td>\n",
       "      <td>15</td>\n",
       "      <td>801.916607</td>\n",
       "      <td>1.424555</td>\n",
       "      <td>...</td>\n",
       "      <td>11</td>\n",
       "      <td>36</td>\n",
       "      <td>463</td>\n",
       "      <td>S993755</td>\n",
       "      <td>v1.2.3</td>\n",
       "      <td>pending</td>\n",
       "      <td>47</td>\n",
       "      <td>9.744692</td>\n",
       "      <td>4g</td>\n",
       "      <td>model_a</td>\n",
       "    </tr>\n",
       "    <tr>\n",
       "      <th>4</th>\n",
       "      <td>0.061687</td>\n",
       "      <td>0.141320</td>\n",
       "      <td>0.278571</td>\n",
       "      <td>-0.246872</td>\n",
       "      <td>0.525443</td>\n",
       "      <td>-0.440889</td>\n",
       "      <td>-1.157643</td>\n",
       "      <td>17</td>\n",
       "      <td>2.377675</td>\n",
       "      <td>0.018567</td>\n",
       "      <td>...</td>\n",
       "      <td>13</td>\n",
       "      <td>41</td>\n",
       "      <td>759</td>\n",
       "      <td>S734746</td>\n",
       "      <td>v1.2.4</td>\n",
       "      <td>recent</td>\n",
       "      <td>37</td>\n",
       "      <td>3.622219</td>\n",
       "      <td>wifi</td>\n",
       "      <td>model_a</td>\n",
       "    </tr>\n",
       "    <tr>\n",
       "      <th>...</th>\n",
       "      <td>...</td>\n",
       "      <td>...</td>\n",
       "      <td>...</td>\n",
       "      <td>...</td>\n",
       "      <td>...</td>\n",
       "      <td>...</td>\n",
       "      <td>...</td>\n",
       "      <td>...</td>\n",
       "      <td>...</td>\n",
       "      <td>...</td>\n",
       "      <td>...</td>\n",
       "      <td>...</td>\n",
       "      <td>...</td>\n",
       "      <td>...</td>\n",
       "      <td>...</td>\n",
       "      <td>...</td>\n",
       "      <td>...</td>\n",
       "      <td>...</td>\n",
       "      <td>...</td>\n",
       "      <td>...</td>\n",
       "      <td>...</td>\n",
       "    </tr>\n",
       "    <tr>\n",
       "      <th>468</th>\n",
       "      <td>0.060402</td>\n",
       "      <td>0.141580</td>\n",
       "      <td>0.300225</td>\n",
       "      <td>-0.230982</td>\n",
       "      <td>0.531207</td>\n",
       "      <td>-0.394775</td>\n",
       "      <td>-1.216041</td>\n",
       "      <td>14</td>\n",
       "      <td>2.369336</td>\n",
       "      <td>0.015395</td>\n",
       "      <td>...</td>\n",
       "      <td>15</td>\n",
       "      <td>57</td>\n",
       "      <td>750</td>\n",
       "      <td>S165342</td>\n",
       "      <td>v1.2.4</td>\n",
       "      <td>ok</td>\n",
       "      <td>54</td>\n",
       "      <td>9.761510</td>\n",
       "      <td>4g</td>\n",
       "      <td>model_c</td>\n",
       "    </tr>\n",
       "    <tr>\n",
       "      <th>469</th>\n",
       "      <td>0.159769</td>\n",
       "      <td>2.509925</td>\n",
       "      <td>8.347333</td>\n",
       "      <td>-9.574540</td>\n",
       "      <td>17.921873</td>\n",
       "      <td>0.287556</td>\n",
       "      <td>3.356591</td>\n",
       "      <td>10</td>\n",
       "      <td>632.524802</td>\n",
       "      <td>1.805974</td>\n",
       "      <td>...</td>\n",
       "      <td>12</td>\n",
       "      <td>76</td>\n",
       "      <td>900</td>\n",
       "      <td>S653588</td>\n",
       "      <td>v1.3.0</td>\n",
       "      <td>pending</td>\n",
       "      <td>23</td>\n",
       "      <td>8.203065</td>\n",
       "      <td>4g</td>\n",
       "      <td>model_a</td>\n",
       "    </tr>\n",
       "    <tr>\n",
       "      <th>470</th>\n",
       "      <td>-0.548699</td>\n",
       "      <td>2.591718</td>\n",
       "      <td>6.550702</td>\n",
       "      <td>-8.426525</td>\n",
       "      <td>14.977227</td>\n",
       "      <td>-0.191147</td>\n",
       "      <td>1.450593</td>\n",
       "      <td>11</td>\n",
       "      <td>701.807315</td>\n",
       "      <td>1.414847</td>\n",
       "      <td>...</td>\n",
       "      <td>22</td>\n",
       "      <td>77</td>\n",
       "      <td>11</td>\n",
       "      <td>S945979</td>\n",
       "      <td>v1.3.0</td>\n",
       "      <td>pending</td>\n",
       "      <td>80</td>\n",
       "      <td>5.033353</td>\n",
       "      <td>5g</td>\n",
       "      <td>model_b</td>\n",
       "    </tr>\n",
       "    <tr>\n",
       "      <th>471</th>\n",
       "      <td>-0.559437</td>\n",
       "      <td>1.851954</td>\n",
       "      <td>4.829766</td>\n",
       "      <td>-6.744202</td>\n",
       "      <td>11.573968</td>\n",
       "      <td>-0.103196</td>\n",
       "      <td>1.832355</td>\n",
       "      <td>9</td>\n",
       "      <td>374.270158</td>\n",
       "      <td>1.994104</td>\n",
       "      <td>...</td>\n",
       "      <td>29</td>\n",
       "      <td>50</td>\n",
       "      <td>831</td>\n",
       "      <td>S424057</td>\n",
       "      <td>v1.3.0</td>\n",
       "      <td>pending</td>\n",
       "      <td>83</td>\n",
       "      <td>1.703700</td>\n",
       "      <td>5g</td>\n",
       "      <td>model_c</td>\n",
       "    </tr>\n",
       "    <tr>\n",
       "      <th>472</th>\n",
       "      <td>1.097805</td>\n",
       "      <td>1.782988</td>\n",
       "      <td>6.098609</td>\n",
       "      <td>-6.824390</td>\n",
       "      <td>12.922999</td>\n",
       "      <td>-0.822844</td>\n",
       "      <td>3.602370</td>\n",
       "      <td>22</td>\n",
       "      <td>438.422408</td>\n",
       "      <td>-1.092403</td>\n",
       "      <td>...</td>\n",
       "      <td>27</td>\n",
       "      <td>57</td>\n",
       "      <td>602</td>\n",
       "      <td>S493380</td>\n",
       "      <td>v1.2.3</td>\n",
       "      <td>recent</td>\n",
       "      <td>22</td>\n",
       "      <td>7.659065</td>\n",
       "      <td>4g</td>\n",
       "      <td>model_a</td>\n",
       "    </tr>\n",
       "  </tbody>\n",
       "</table>\n",
       "<p>473 rows × 60 columns</p>\n",
       "</div>"
      ],
      "text/plain": [
       "       x_mean     x_std      x_max     x_min    x_range    x_skew  x_kurtosis  \\\n",
       "0    2.578586  2.362892   8.999561 -5.200753  14.200314  0.193760    1.400440   \n",
       "1   -0.114423  2.185548  10.289834 -5.283784  15.573618  2.164783    7.702143   \n",
       "2    0.061702  0.147340   0.291371 -0.208436   0.499806 -0.407912   -1.211002   \n",
       "3    1.354891  2.486652  11.114359 -6.365416  17.479775  0.764660    3.152818   \n",
       "4    0.061687  0.141320   0.278571 -0.246872   0.525443 -0.440889   -1.157643   \n",
       "..        ...       ...        ...       ...        ...       ...         ...   \n",
       "468  0.060402  0.141580   0.300225 -0.230982   0.531207 -0.394775   -1.216041   \n",
       "469  0.159769  2.509925   8.347333 -9.574540  17.921873  0.287556    3.356591   \n",
       "470 -0.548699  2.591718   6.550702 -8.426525  14.977227 -0.191147    1.450593   \n",
       "471 -0.559437  1.851954   4.829766 -6.744202  11.573968 -0.103196    1.832355   \n",
       "472  1.097805  1.782988   6.098609 -6.824390  12.922999 -0.822844    3.602370   \n",
       "\n",
       "     x_n_peaks     x_energy    y_mean  ...  temperature  humidity  altitude  \\\n",
       "0           31  1223.236383  2.995496  ...           12        49       996   \n",
       "1            5   478.971240  0.343485  ...           22        75       607   \n",
       "2           15     2.551629  0.015451  ...           30        52       482   \n",
       "3           15   801.916607  1.424555  ...           11        36       463   \n",
       "4           17     2.377675  0.018567  ...           13        41       759   \n",
       "..         ...          ...       ...  ...          ...       ...       ...   \n",
       "468         14     2.369336  0.015395  ...           15        57       750   \n",
       "469         10   632.524802  1.805974  ...           12        76       900   \n",
       "470         11   701.807315  1.414847  ...           22        77        11   \n",
       "471          9   374.270158  1.994104  ...           29        50       831   \n",
       "472         22   438.422408 -1.092403  ...           27        57       602   \n",
       "\n",
       "     session_id  firmware_version  calibration_status  battery_level  \\\n",
       "0       S603575            v1.3.0                  ok             79   \n",
       "1       S949312            v1.2.4                  ok             81   \n",
       "2       S223545            v1.2.3              recent             95   \n",
       "3       S993755            v1.2.3             pending             47   \n",
       "4       S734746            v1.2.4              recent             37   \n",
       "..          ...               ...                 ...            ...   \n",
       "468     S165342            v1.2.4                  ok             54   \n",
       "469     S653588            v1.3.0             pending             23   \n",
       "470     S945979            v1.3.0             pending             80   \n",
       "471     S424057            v1.3.0             pending             83   \n",
       "472     S493380            v1.2.3              recent             22   \n",
       "\n",
       "     gps_accuracy  network_type  device_model  \n",
       "0        5.570705            4g       model_c  \n",
       "1        3.181146            4g       model_c  \n",
       "2        2.987759            4g       model_b  \n",
       "3        9.744692            4g       model_a  \n",
       "4        3.622219          wifi       model_a  \n",
       "..            ...           ...           ...  \n",
       "468      9.761510            4g       model_c  \n",
       "469      8.203065            4g       model_a  \n",
       "470      5.033353            5g       model_b  \n",
       "471      1.703700            5g       model_c  \n",
       "472      7.659065            4g       model_a  \n",
       "\n",
       "[473 rows x 60 columns]"
      ]
     },
     "execution_count": 3,
     "metadata": {},
     "output_type": "execute_result"
    }
   ],
   "source": [
    "from extract_features import process_dataset\n",
    "process_dataset('inference')"
   ]
  },
  {
   "cell_type": "code",
   "execution_count": 59,
   "id": "de19367e-e58a-4f0c-abd2-624e4faee62e",
   "metadata": {},
   "outputs": [],
   "source": [
    "import pandas as pd\n",
    "labels = pd.read_csv(\"data/manual_annotation/inference_labels.csv\")"
   ]
  },
  {
   "cell_type": "code",
   "execution_count": 60,
   "id": "1f633ff4-21c3-4eb4-9797-e9260ecf82d9",
   "metadata": {},
   "outputs": [],
   "source": [
    "import joblib\n",
    "from imu_pipeline import IMUPipeline\n",
    "\n",
    "df_inf = pd.read_csv(\"data/inference.csv\")\n",
    "model = joblib.load(\"models/imu_pipeline.pkl\")\n",
    "\n",
    "preds = model.predict(df_inf)\n",
    "probs = model.predict_proba(df_inf)"
   ]
  },
  {
   "cell_type": "code",
   "execution_count": null,
   "id": "cd90847b-2c36-4388-a153-8b190eb180ca",
   "metadata": {},
   "outputs": [],
   "source": [
    "## Evaluate performance on the inference set using standard metrics (accuracy, precision, recall, F1) - For Inference."
   ]
  },
  {
   "cell_type": "code",
   "execution_count": 61,
   "id": "02a40b14-5d82-47ee-a7e1-fa8f30957a6d",
   "metadata": {},
   "outputs": [],
   "source": [
    "import numpy as np\n",
    "from sklearn.metrics import accuracy_score, precision_score, recall_score, f1_score"
   ]
  },
  {
   "cell_type": "code",
   "execution_count": 62,
   "id": "dd29fdc0-be8f-483c-b247-20794bc7a4af",
   "metadata": {},
   "outputs": [],
   "source": [
    "label_map = {'collision': 0, 'normal': 1}"
   ]
  },
  {
   "cell_type": "code",
   "execution_count": 63,
   "id": "bb1f8a72-214c-4aa9-8f0e-04d048208deb",
   "metadata": {},
   "outputs": [],
   "source": [
    "preds_map = np.array([label_map[label] for label in preds])"
   ]
  },
  {
   "cell_type": "code",
   "execution_count": 64,
   "id": "68cc8db5-8490-4708-84a4-53ef004cc83e",
   "metadata": {},
   "outputs": [],
   "source": [
    "probs_map = np.argmax(probs, axis=1)"
   ]
  },
  {
   "cell_type": "code",
   "execution_count": 65,
   "id": "ea5b71a1-b2e7-45a4-acb5-3c7eae1ffaab",
   "metadata": {},
   "outputs": [],
   "source": [
    "accuracy_inference = accuracy_score(preds_map, probs_map)\n",
    "precision_inference = precision_score(preds_map, probs_map)\n",
    "recall_inference = recall_score(preds_map, probs_map)\n",
    "f1_inference = f1_score(preds_map, probs_map)"
   ]
  },
  {
   "cell_type": "code",
   "execution_count": 66,
   "id": "d27ff4ac-9b91-468c-aa5a-17b20e208ef3",
   "metadata": {},
   "outputs": [
    {
     "data": {
      "text/plain": [
       "1.0"
      ]
     },
     "execution_count": 66,
     "metadata": {},
     "output_type": "execute_result"
    }
   ],
   "source": [
    "accuracy_inference"
   ]
  },
  {
   "cell_type": "code",
   "execution_count": 67,
   "id": "651f77aa-c229-4963-87bc-72a6a6d7511d",
   "metadata": {},
   "outputs": [
    {
     "data": {
      "text/plain": [
       "1.0"
      ]
     },
     "execution_count": 67,
     "metadata": {},
     "output_type": "execute_result"
    }
   ],
   "source": [
    "precision_inference"
   ]
  },
  {
   "cell_type": "code",
   "execution_count": 68,
   "id": "ace27765-e3b4-4ea9-8bc5-05cacb069497",
   "metadata": {},
   "outputs": [
    {
     "data": {
      "text/plain": [
       "1.0"
      ]
     },
     "execution_count": 68,
     "metadata": {},
     "output_type": "execute_result"
    }
   ],
   "source": [
    "recall_inference"
   ]
  },
  {
   "cell_type": "code",
   "execution_count": 69,
   "id": "c41545fd-a6bc-4a3d-8e71-cfed741aae36",
   "metadata": {},
   "outputs": [
    {
     "data": {
      "text/plain": [
       "1.0"
      ]
     },
     "execution_count": 69,
     "metadata": {},
     "output_type": "execute_result"
    }
   ],
   "source": [
    "f1_inference"
   ]
  },
  {
   "cell_type": "code",
   "execution_count": null,
   "id": "bad26384-0706-4479-9453-4452b1880d4a",
   "metadata": {},
   "outputs": [],
   "source": [
    "# # The model consistently selected the correct class for every instance in the inference dataset."
   ]
  },
  {
   "cell_type": "code",
   "execution_count": null,
   "id": "5f5aad1e-8018-4bb9-8c02-025f01fa5567",
   "metadata": {},
   "outputs": [],
   "source": [
    "# Calculating For the Test model:"
   ]
  },
  {
   "cell_type": "code",
   "execution_count": 70,
   "id": "d4cdbf0f-32fe-43fd-aa87-7c73eec57ab5",
   "metadata": {},
   "outputs": [],
   "source": [
    "df_inf_test = pd.read_csv(\"data/test.csv\")\n",
    "model = joblib.load(\"models/imu_pipeline.pkl\")\n",
    "\n",
    "preds_test = model.predict(df_inf_test)\n",
    "probs_test = model.predict_proba(df_inf_test)"
   ]
  },
  {
   "cell_type": "code",
   "execution_count": 71,
   "id": "6f6999e5-672f-4de9-ba31-7b7ac74e3e3b",
   "metadata": {},
   "outputs": [],
   "source": [
    "preds_map_test = np.array([label_map[label] for label in preds_test])"
   ]
  },
  {
   "cell_type": "code",
   "execution_count": 72,
   "id": "3b49329b-5b6b-4b64-bcee-c00af78d9223",
   "metadata": {},
   "outputs": [],
   "source": [
    "probs_map_test = np.argmax(probs_test, axis=1)"
   ]
  },
  {
   "cell_type": "code",
   "execution_count": 73,
   "id": "e1b63898-6455-43ec-9fd5-c128117e5f3c",
   "metadata": {},
   "outputs": [],
   "source": [
    "accuracy_inference_test = accuracy_score(preds_map_test, probs_map_test)\n",
    "precision_inference_test = precision_score(preds_map_test, probs_map_test)\n",
    "recall_inference_test = recall_score(preds_map_test, probs_map_test)\n",
    "f1_inference_test = f1_score(preds_map_test, probs_map_test)"
   ]
  },
  {
   "cell_type": "code",
   "execution_count": 74,
   "id": "122bb39c-10ad-4271-96ac-5db1d83a4e94",
   "metadata": {},
   "outputs": [
    {
     "data": {
      "text/plain": [
       "1.0"
      ]
     },
     "execution_count": 74,
     "metadata": {},
     "output_type": "execute_result"
    }
   ],
   "source": [
    "accuracy_inference_test"
   ]
  },
  {
   "cell_type": "code",
   "execution_count": 75,
   "id": "f1c2d980-91f9-434a-aa27-a1cab3bf6db2",
   "metadata": {},
   "outputs": [
    {
     "data": {
      "text/plain": [
       "1.0"
      ]
     },
     "execution_count": 75,
     "metadata": {},
     "output_type": "execute_result"
    }
   ],
   "source": [
    "precision_inference_test"
   ]
  },
  {
   "cell_type": "code",
   "execution_count": 76,
   "id": "15dc397b-2802-40af-be7f-b1a2cb2da67c",
   "metadata": {},
   "outputs": [
    {
     "data": {
      "text/plain": [
       "1.0"
      ]
     },
     "execution_count": 76,
     "metadata": {},
     "output_type": "execute_result"
    }
   ],
   "source": [
    "recall_inference_test"
   ]
  },
  {
   "cell_type": "code",
   "execution_count": 77,
   "id": "5eaf2f0f-f5d9-467a-b9dd-222b00e701ce",
   "metadata": {},
   "outputs": [
    {
     "data": {
      "text/plain": [
       "1.0"
      ]
     },
     "execution_count": 77,
     "metadata": {},
     "output_type": "execute_result"
    }
   ],
   "source": [
    "f1_inference_test"
   ]
  },
  {
   "cell_type": "code",
   "execution_count": null,
   "id": "48583db7-d29a-44e8-afb2-138ea97a09c1",
   "metadata": {},
   "outputs": [],
   "source": [
    "# The model consistently selected the correct class for every instance in the test dataset."
   ]
  },
  {
   "cell_type": "code",
   "execution_count": null,
   "id": "f33d59da-efce-4615-8460-b3a7a8d7a62c",
   "metadata": {},
   "outputs": [],
   "source": [
    "# Inference EDA:"
   ]
  },
  {
   "cell_type": "code",
   "execution_count": 78,
   "id": "2d5f530e-55fc-4779-a1cc-24c2f6c6fd83",
   "metadata": {},
   "outputs": [],
   "source": [
    "import matplotlib.pyplot as plt\n",
    "from sklearn.metrics import (\n",
    "    confusion_matrix, ConfusionMatrixDisplay,\n",
    "    classification_report,\n",
    "    roc_curve, precision_recall_curve\n",
    ")"
   ]
  },
  {
   "cell_type": "code",
   "execution_count": 79,
   "id": "22c8f451-bc00-4e51-a7c0-ce073797c22c",
   "metadata": {},
   "outputs": [],
   "source": [
    "classification_report_inference = classification_report(preds_map, probs_map)"
   ]
  },
  {
   "cell_type": "code",
   "execution_count": 80,
   "id": "fc53818d-9de6-4daa-84c8-cf92cd1c4647",
   "metadata": {},
   "outputs": [
    {
     "data": {
      "text/plain": [
       "'              precision    recall  f1-score   support\\n\\n           0       1.00      1.00      1.00       384\\n           1       1.00      1.00      1.00        89\\n\\n    accuracy                           1.00       473\\n   macro avg       1.00      1.00      1.00       473\\nweighted avg       1.00      1.00      1.00       473\\n'"
      ]
     },
     "execution_count": 80,
     "metadata": {},
     "output_type": "execute_result"
    }
   ],
   "source": [
    "classification_report_inference"
   ]
  },
  {
   "cell_type": "code",
   "execution_count": 41,
   "id": "2cbe6b4d-8a47-4590-8d38-42977d61818d",
   "metadata": {},
   "outputs": [],
   "source": [
    "####\n",
    "## precision class:\tEvery time the model predicted a given class, it was correct — no false positives..\n",
    "## recall: The model correctly identified all true instances of the class — no false negatives.\n",
    "## f1-score: The harmonic mean of precision and recall — also perfect, indicating both are maximized\n",
    "## support:\tThe number of samples belonging to each class (384 for 'collision', 89 for class 'normal').\n",
    "## accuracy: Out of all 473 predictions, every single one was correct — 100% overall accuracy.\n",
    "####"
   ]
  },
  {
   "cell_type": "code",
   "execution_count": 81,
   "id": "5ffbf793-b99e-4b70-a033-b64ae42e13c0",
   "metadata": {},
   "outputs": [
    {
     "data": {
      "image/png": "[encoded data removed]",
      "text/plain": [
       "<Figure size 640x480 with 2 Axes>"
      ]
     },
     "metadata": {},
     "output_type": "display_data"
    }
   ],
   "source": [
    "cm = confusion_matrix(preds_map, probs_map)\n",
    "disp = ConfusionMatrixDisplay(confusion_matrix=cm)\n",
    "disp.plot(cmap=\"Blues\")\n",
    "plt.title(\"Confusion Matrix Inference\")\n",
    "plt.show()"
   ]
  },
  {
   "cell_type": "code",
   "execution_count": 47,
   "id": "5826a3cf-3396-45c4-abab-5400899b1890",
   "metadata": {},
   "outputs": [
    {
     "data": {
      "text/plain": [
       "'\\n'"
      ]
     },
     "execution_count": 47,
     "metadata": {},
     "output_type": "execute_result"
    }
   ],
   "source": [
    "'''\n",
    "The confusion matrix shows perfect classification results with no misclassifications.\n",
    "All samples were correctly assigned to their true classes, indicating the model achieved 100% accuracy, precision, recall, and F1-score.\n",
    "While this is an excellent outcome, such flawless performance might suggest the test data is very similar to the training set, lacks\n",
    "challenging examples, or there might be some data leakage. Further analysis is recommended to confirm the model's generalization capability.\n",
    "'''"
   ]
  },
  {
   "cell_type": "code",
   "execution_count": 82,
   "id": "ad4a05d7-e95e-4ebf-8872-e6a43401dd3b",
   "metadata": {},
   "outputs": [
    {
     "data": {
      "image/png": "[encoded data removed]",
      "text/plain": [
       "<Figure size 640x480 with 1 Axes>"
      ]
     },
     "metadata": {},
     "output_type": "display_data"
    }
   ],
   "source": [
    "plt.hist(probs[:, 1], bins=30, color='skyblue', edgecolor='black')\n",
    "plt.title('Distribution of Predicted Probabilities for Class 1 - Normal')\n",
    "plt.xlabel('Predicted Probability')\n",
    "plt.ylabel('Number of Samples')\n",
    "plt.show()"
   ]
  },
  {
   "cell_type": "code",
   "execution_count": null,
   "id": "064e80be-924c-403f-bc91-c1efe552b622",
   "metadata": {},
   "outputs": [],
   "source": [
    "'''\n",
    "The histogram of predicted probabilities for the inference set reveals a strong bimodal distribution,\n",
    "with most predictions clustered near 0(colllision) and 1(normal). This pattern indicates that the model is highly confident in nearly\n",
    "all of its classifications. The minimal presence of mid-range probabilities aligns with the perfect accuracy observed,\n",
    "reinforcing the robustness of the model’s predictions.\n",
    "'''"
   ]
  },
  {
   "cell_type": "code",
   "execution_count": 88,
   "id": "9e7c2a45-d101-47e8-93fc-a1702598e156",
   "metadata": {},
   "outputs": [
    {
     "name": "stdout",
     "output_type": "stream",
     "text": [
      "Mean confidence: 0.1965\n",
      "Median confidence: 0.0500\n",
      "Min confidence: 0.0000\n",
      "Max confidence: 1.0000\n",
      "Standard deviation: 0.3304\n"
     ]
    }
   ],
   "source": [
    "import numpy as np\n",
    "\n",
    "np_probs = probs[:, 1]\n",
    "print(f\"Mean confidence: {np.mean(np_probs):.4f}\")\n",
    "print(f\"Median confidence: {np.median(np_probs):.4f}\")\n",
    "print(f\"Min confidence: {np.min(np_probs):.4f}\")\n",
    "print(f\"Max confidence: {np.max(np_probs):.4f}\")\n",
    "print(f\"Standard deviation: {np.std(np_probs):.4f}\")"
   ]
  },
  {
   "cell_type": "code",
   "execution_count": null,
   "id": "264eb73a-570d-4410-8a64-41ae268904f6",
   "metadata": {},
   "outputs": [],
   "source": [
    "'''\n",
    "For the inference dataset, the model's mean confidence score is relatively low at 0.1965, with a median of 0.05,\n",
    "indicating that most predicted probabilities are close to 0. The minimum confidence is 0, and the maximum reaches 1,\n",
    "showing some predictions are made with full certainty, but the majority are skewed toward low confidence values.\n",
    "The standard deviation of 0.3304 reflects moderate variability in confidence across samples.\n",
    "This suggests that while the model is sometimes very certain, overall it tends to assign lower confidence to many predictions\n",
    "in the inference set.\n",
    "'''"
   ]
  },
  {
   "cell_type": "code",
   "execution_count": null,
   "id": "48d4db0a-e981-4697-9b0e-3060eb205fc2",
   "metadata": {},
   "outputs": [],
   "source": [
    "# Test EDA:"
   ]
  },
  {
   "cell_type": "code",
   "execution_count": 83,
   "id": "fe5d0b5d-853a-491c-838c-2d866bdde483",
   "metadata": {},
   "outputs": [],
   "source": [
    "classification_report_test = classification_report(preds_map_test, probs_map_test)"
   ]
  },
  {
   "cell_type": "code",
   "execution_count": 84,
   "id": "c290e858-efc4-4b57-9c9a-2422493cedf3",
   "metadata": {},
   "outputs": [
    {
     "data": {
      "text/plain": [
       "'              precision    recall  f1-score   support\\n\\n           0       1.00      1.00      1.00        89\\n           1       1.00      1.00      1.00       111\\n\\n    accuracy                           1.00       200\\n   macro avg       1.00      1.00      1.00       200\\nweighted avg       1.00      1.00      1.00       200\\n'"
      ]
     },
     "execution_count": 84,
     "metadata": {},
     "output_type": "execute_result"
    }
   ],
   "source": [
    "classification_report_test"
   ]
  },
  {
   "cell_type": "code",
   "execution_count": null,
   "id": "42328a13-915a-4bc3-9fb8-81326e6e18cd",
   "metadata": {},
   "outputs": [],
   "source": [
    "####\n",
    "## precision class:\tEvery time the model predicted a given class, it was correct — no false positives..\n",
    "## recall: The model correctly identified all true instances of the class — no false negatives.\n",
    "## f1-score: The harmonic mean of precision and recall — also perfect, indicating both are maximized\n",
    "## support:\tThe number of samples belonging to each class (89 for 'collision', 111 for class 'normal').\n",
    "## accuracy: Out of all 473 predictions, every single one was correct — 100% overall accuracy.\n",
    "####"
   ]
  },
  {
   "cell_type": "code",
   "execution_count": 85,
   "id": "173c21eb-4c42-4cf8-a10f-61656cf38449",
   "metadata": {},
   "outputs": [
    {
     "data": {
      "image/png": "[encoded data removed]",
      "text/plain": [
       "<Figure size 640x480 with 2 Axes>"
      ]
     },
     "metadata": {},
     "output_type": "display_data"
    }
   ],
   "source": [
    "cm = confusion_matrix(preds_map_test, probs_map_test)\n",
    "disp = ConfusionMatrixDisplay(confusion_matrix=cm)\n",
    "disp.plot(cmap=\"Blues\")\n",
    "plt.title(\"Confusion Matrix Test\")\n",
    "plt.show()"
   ]
  },
  {
   "cell_type": "code",
   "execution_count": null,
   "id": "faf858bc-86b1-4c5d-9a26-acc2ffad5ba9",
   "metadata": {},
   "outputs": [],
   "source": [
    "'''\n",
    "The confusion matrix shows perfect classification results with no misclassifications.\n",
    "All samples were correctly assigned to their true classes, indicating the model achieved 100% accuracy, precision, recall, and F1-score.\n",
    "While this is an excellent outcome, such flawless performance might suggest the test data is very similar to the training set, lacks\n",
    "challenging examples, or there might be some data leakage. Further analysis is recommended to confirm the model's generalization capability.\n",
    "'''"
   ]
  },
  {
   "cell_type": "code",
   "execution_count": 86,
   "id": "fcf69418-5817-4f15-ac95-0ae0971f1da1",
   "metadata": {},
   "outputs": [
    {
     "data": {
      "image/png": "[encoded data removed]",
      "text/plain": [
       "<Figure size 640x480 with 1 Axes>"
      ]
     },
     "metadata": {},
     "output_type": "display_data"
    }
   ],
   "source": [
    "plt.hist(probs_test[:, 1], bins=30, color='skyblue', edgecolor='black')\n",
    "plt.title('Distribution of Predicted Probabilities for Class 1 - Normal')\n",
    "plt.xlabel('Predicted Probability')\n",
    "plt.ylabel('Number of Samples')\n",
    "plt.show()"
   ]
  },
  {
   "cell_type": "code",
   "execution_count": null,
   "id": "edcc8716-e777-4a03-a6f2-5237325eed26",
   "metadata": {},
   "outputs": [],
   "source": [
    "'''\n",
    "The histogram of predicted probabilities for the test set reveals a strong bimodal distribution,\n",
    "with most predictions clustered near 0(colllision) and 1(normal). This pattern indicates that the model is highly confident in nearly\n",
    "all of its classifications. The minimal presence of mid-range probabilities aligns with the perfect accuracy observed,\n",
    "reinforcing the robustness of the model’s predictions.\n",
    "'''"
   ]
  },
  {
   "cell_type": "code",
   "execution_count": 89,
   "id": "2d1c449c-702c-4f0b-86f6-e6538dd8ac7a",
   "metadata": {},
   "outputs": [
    {
     "name": "stdout",
     "output_type": "stream",
     "text": [
      "Mean confidence: 0.4944\n",
      "Median confidence: 0.7900\n",
      "Min confidence: 0.0000\n",
      "Max confidence: 1.0000\n",
      "Standard deviation: 0.4425\n"
     ]
    }
   ],
   "source": [
    "import numpy as np\n",
    "\n",
    "np_probs_test = probs_test[:, 1]\n",
    "print(f\"Mean confidence: {np.mean(np_probs_test):.4f}\")\n",
    "print(f\"Median confidence: {np.median(np_probs_test):.4f}\")\n",
    "print(f\"Min confidence: {np.min(np_probs_test):.4f}\")\n",
    "print(f\"Max confidence: {np.max(np_probs_test):.4f}\")\n",
    "print(f\"Standard deviation: {np.std(np_probs_test):.4f}\")"
   ]
  },
  {
   "cell_type": "code",
   "execution_count": null,
   "id": "9930d646-a8d5-4f52-9bab-660d3f67c2da",
   "metadata": {},
   "outputs": [],
   "source": [
    "'''\n",
    "For the test dataset, the model exhibits a mean confidence of 0.4944 and a median confidence of 0.79.\n",
    "This indicates that most predictions are made with moderate to high certainty.\n",
    "The confidence scores span the full range from 0 to 1, with a standard deviation of 0.4425,\n",
    "reflecting variability in how confident the model is across different samples.\n",
    "Overall, the distribution suggests the model is generally quite confident when predicting on the test set.\n",
    "'''"
   ]
  },
  {
   "cell_type": "code",
   "execution_count": null,
   "id": "805b7a60-96e3-4b6a-97e3-18f06c6456df",
   "metadata": {},
   "outputs": [],
   "source": []
  },
  {
   "cell_type": "code",
   "execution_count": null,
   "id": "a594c125-a067-45f6-9fdd-b09310f18fba",
   "metadata": {},
   "outputs": [],
   "source": [
    "# Summary:"
   ]
  },
  {
   "cell_type": "code",
   "execution_count": null,
   "id": "fd2d291e-14aa-417e-8fdf-d6089190af99",
   "metadata": {},
   "outputs": [],
   "source": [
    "'''\n",
    "The model nailed every prediction — seriously, amazing work from everyone involved!\n",
    "And if the inference data actually came from the videos attached to this task, then I’m even more impressed.\n",
    "Some of those clips had really tough situations, so seeing the model handle them without a single mistake is super impressive.\n",
    "\n",
    "That said, there’s always room to dig deeper. One thing that stood out is that the inference set doesn’t seem as balanced as the test set\n",
    "in terms of label distribution. That could explain why the model’s confidence was noticeably lower during inference,\n",
    "even though it still got everything right. Maybe it’s seeing certain classes more often or just isn’t as confident\n",
    "when they’re underrepresented.\n",
    "\n",
    "Looking at the numbers:\n",
    "\n",
    "    Inference confidence: mean = 0.1965, median = 0.05, std = 0.33\n",
    "    Test confidence: mean = 0.4944, median = 0.79, std = 0.44\n",
    "\n",
    "So, on the test set, the model usually predicts with moderate to high confidence, while on the inference set,\n",
    "confidence tends to be much lower — even close to zero in many cases. That doesn’t mean it’s failing,\n",
    "but it does suggest the inference data might feel unfamiliar or a bit different to the model. Definitely something to look into.\n",
    "\n",
    "What could explain this difference?\n",
    "Even though we’re talking about IMU data, there are still a bunch of factors that could make the inference data feel different:\n",
    "\n",
    "    Different drivers with unique styles or behaviors\n",
    "    Road conditions — bumps, curves, sharp turns, sudden stops\n",
    "    Different types of vehicles with their own dynamics\n",
    "    Time of day, weather, or lighting differences\n",
    "    Changes in terrain — hills, slopes, uneven roads\n",
    "    Sensor glitches, noise, or small hardware variations\n",
    "\n",
    "What can be done?\n",
    "Short-term: It might be worth checking if these low-confidence cases come from edge scenarios:\n",
    "harsh driving, sensor noise, or risky maneuvers. Then, decide if some of them should be excluded or flagged differently.\n",
    "\n",
    "Long-term: The best move would be to identify exactly where the model is less confident, collect more of those cases,\n",
    "retrain it on that kind of data, and update the test set accordingly. Then keep re-evaluating to see if the confidence improves.\n",
    "\n",
    "If I had more data and time -  I’m still not 100% sure what the data actually represents — is it frame-by-frame from video,\n",
    "or just sampled moments? I’d love to better understand what I’m working with.\n",
    "It would also help to have both the IMU data and video frames side by side,\n",
    "especially if these are meant to represent the more difficult moments leading up to collisions.\n",
    "\n",
    "If the model really achieved this performance using only the IMU deltas from those challenging video examples — hats off.\n",
    "That’s seriously impressive.\n",
    "From what I can tell, the model might assume that spikes in the IMU readings = collision.\n",
    "And that might be part of the story — but I get the feeling it’s doing more than just chasing peaks.\n",
    "Especially if it stayed this accurate on messy, real-world data.\n",
    "Bottom line: the predictions are flawless. No need to question the assumptions for now.\n",
    "Just figure out why confidence dropped and make the model even stronger by feeding it more of what it struggles with.\n",
    "'''"
   ]
  },
  {
   "cell_type": "markdown",
   "id": "0319cf27-f9e4-470b-9218-8b5bd4f9d0b9",
   "metadata": {},
   "source": [
    "# ❓ Questions to Reflect On\n",
    "\n",
    "\n",
    "- What do you observe when comparing the model’s predictions on the new data to its known performance?\n",
    "\n",
    "- Is there anything in the data that might explain differences in behavior?\n",
    "\n",
    "- Can you identify patterns or trends related to when the model succeeds or fails?\n",
    "\n",
    "- Are there signals or features that seem to affect the model’s reliability?\n",
    "\n",
    "- What could be done in the short term to handle the current situation?\n",
    "\n",
    "- What are potential long-term steps to improve model performance in similar scenarios?\n",
    "\n",
    "- What would you want to explore further if given more time or data?\n",
    "\n",
    "- What assumptions did the model rely on during training — and are they still valid?"
   ]
  }
 ],
 "metadata": {
  "kernelspec": {
   "display_name": "Python 3 (ipykernel)",
   "language": "python",
   "name": "python3"
  },
  "language_info": {
   "codemirror_mode": {
    "name": "ipython",
    "version": 3
   },
   "file_extension": ".py",
   "mimetype": "text/x-python",
   "name": "python",
   "nbconvert_exporter": "python",
   "pygments_lexer": "ipython3",
   "version": "3.9.6"
  }
 },
 "nbformat": 4,
 "nbformat_minor": 5
}
